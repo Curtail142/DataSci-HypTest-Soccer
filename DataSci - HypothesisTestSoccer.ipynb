{
 "cells": [
  {
   "cell_type": "code",
   "execution_count": null,
   "id": "bda26e8a-f12f-4218-8ef4-3ca7906166ac",
   "metadata": {},
   "outputs": [],
   "source": [
    "# Start your code here!\n",
    "import pandas as pd"
   ]
  },
  {
   "cell_type": "code",
   "execution_count": null,
   "id": "1e2d244c-b1d4-48eb-9c00-492b538c877e",
   "metadata": {},
   "outputs": [],
   "source": [
    "# Imports\n",
    "import pandas as pd\n",
    "import matplotlib.pyplot as plt\n",
    "import pingouin\n",
    "from scipy.stats import mannwhitneyu\n",
    "\n",
    "# Loading men's and women's datasets\n",
    "men = pd.read_csv(\"men_results.csv\")\n",
    "women = pd.read_csv(\"women_results.csv\")\n",
    "\n",
    "# Filtering the data for the time range and tournament\n",
    "men[\"date\"] = pd.to_datetime(men[\"date\"])\n",
    "men_subset = men[(men[\"date\"] > \"2002-01-01\") & (men[\"tournament\"].isin([\"FIFA World Cup\"]))]\n",
    "women[\"date\"] = pd.to_datetime(women[\"date\"])\n",
    "women_subset = women[(women[\"date\"] > \"2002-01-01\") & (women[\"tournament\"].isin([\"FIFA World Cup\"]))]\n",
    "\n",
    "# Creating group and goals_scored columns\n",
    "men_subset[\"group\"] = \"men\"\n",
    "women_subset[\"group\"] = \"women\"\n",
    "men_subset[\"goals_scored\"] = men_subset[\"home_score\"] + men_subset[\"away_score\"]\n",
    "women_subset[\"goals_scored\"] = women_subset[\"home_score\"] + women_subset[\"away_score\"]\n",
    "\n",
    "# Determining normality using histograms\n",
    "men_subset[\"goals_scored\"].hist()\n",
    "plt.show()\n",
    "plt.clf()\n",
    "\n",
    "# Goals scored is not normally distributed, so using Wilcoxon-Mann-Whitney test of two groups\n",
    "men_subset[\"goals_scored\"].hist()\n",
    "plt.show()\n",
    "plt.clf()\n",
    "\n",
    "# Combining women's and men's data and calculate goals scored in each match\n",
    "both = pd.concat([women_subset, men_subset], axis=0, ignore_index=True)\n",
    "\n",
    "# Transforming the data for the pingouin Mann-Whitney U t-test/Wilcoxon-Mann-Whitney test\n",
    "both_subset = both[[\"goals_scored\", \"group\"]]\n",
    "both_subset_wide = both_subset.pivot(columns=\"group\", values=\"goals_scored\")\n",
    "\n",
    "# Performing right-tailed Wilcoxon-Mann-Whitney test with pingouin\n",
    "results_pg = pingouin.mwu(x=both_subset_wide[\"women\"],\n",
    "                          y=both_subset_wide[\"men\"],\n",
    "                          alternative=\"greater\")\n",
    "\n",
    "# Alternative SciPy solution: Performing right-tailed Wilcoxon-Mann-Whitney test with scipy\n",
    "results_scipy = mannwhitneyu(x=women_subset[\"goals_scored\"],\n",
    "                             y=men_subset[\"goals_scored\"],\n",
    "                             alternative=\"greater\")\n",
    "\n",
    "# Extracting p-value as a float\n",
    "p_val = results_pg[\"p-val\"].values[0]\n",
    "\n",
    "# Determining hypothesis test result using sig. level\n",
    "if p_val <= 0.01:\n",
    "    result = \"reject\"\n",
    "else:\n",
    "    result = \"fail to reject\"\n",
    "\n",
    "result_dict = {\"p_val\": p_val, \"result\": result}"
   ]
  }
 ],
 "metadata": {
  "kernelspec": {
   "display_name": "Python 3 (ipykernel)",
   "language": "python",
   "name": "python3"
  },
  "language_info": {
   "codemirror_mode": {
    "name": "ipython",
    "version": 3
   },
   "file_extension": ".py",
   "mimetype": "text/x-python",
   "name": "python",
   "nbconvert_exporter": "python",
   "pygments_lexer": "ipython3",
   "version": "3.12.4"
  }
 },
 "nbformat": 4,
 "nbformat_minor": 5
}
